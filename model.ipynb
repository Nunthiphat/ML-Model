{
 "cells": [
  {
   "cell_type": "code",
   "execution_count": 1,
   "metadata": {},
   "outputs": [
    {
     "name": "stderr",
     "output_type": "stream",
     "text": [
      "C:\\Users\\natty\\AppData\\Local\\Packages\\PythonSoftwareFoundation.Python.3.11_qbz5n2kfra8p0\\LocalCache\\local-packages\\Python311\\site-packages\\sklearn\\linear_model\\_logistic.py:469: ConvergenceWarning: lbfgs failed to converge (status=1):\n",
      "STOP: TOTAL NO. of ITERATIONS REACHED LIMIT.\n",
      "\n",
      "Increase the number of iterations (max_iter) or scale the data as shown in:\n",
      "    https://scikit-learn.org/stable/modules/preprocessing.html\n",
      "Please also refer to the documentation for alternative solver options:\n",
      "    https://scikit-learn.org/stable/modules/linear_model.html#logistic-regression\n",
      "  n_iter_i = _check_optimize_result(\n",
      "C:\\Users\\natty\\AppData\\Local\\Packages\\PythonSoftwareFoundation.Python.3.11_qbz5n2kfra8p0\\LocalCache\\local-packages\\Python311\\site-packages\\sklearn\\ensemble\\_weight_boosting.py:527: FutureWarning: The SAMME.R algorithm (the default) is deprecated and will be removed in 1.6. Use the SAMME algorithm to circumvent this warning.\n",
      "  warnings.warn(\n"
     ]
    },
    {
     "name": "stdout",
     "output_type": "stream",
     "text": [
      "Accuracy: 0.8641304347826086\n"
     ]
    },
    {
     "name": "stderr",
     "output_type": "stream",
     "text": [
      "C:\\Users\\natty\\AppData\\Local\\Packages\\PythonSoftwareFoundation.Python.3.11_qbz5n2kfra8p0\\LocalCache\\local-packages\\Python311\\site-packages\\sklearn\\neural_network\\_multilayer_perceptron.py:690: ConvergenceWarning: Stochastic Optimizer: Maximum iterations (200) reached and the optimization hasn't converged yet.\n",
      "  warnings.warn(\n"
     ]
    },
    {
     "data": {
      "text/plain": [
       "['new_voting_classifier_model.pkl']"
      ]
     },
     "execution_count": 1,
     "metadata": {},
     "output_type": "execute_result"
    }
   ],
   "source": [
    "from sklearn.preprocessing import LabelEncoder\n",
    "import pandas as pd\n",
    "from sklearn.model_selection import train_test_split\n",
    "from sklearn.linear_model import LogisticRegression\n",
    "from sklearn.linear_model import SGDClassifier\n",
    "from sklearn.ensemble import RandomForestClassifier, VotingClassifier, AdaBoostClassifier\n",
    "from sklearn.naive_bayes import GaussianNB\n",
    "from sklearn.svm import SVC\n",
    "from sklearn.tree import DecisionTreeClassifier\n",
    "from sklearn.neighbors import KNeighborsClassifier\n",
    "from sklearn.neural_network import MLPClassifier\n",
    "import joblib\n",
    "\n",
    "# Load dataset\n",
    "data = pd.read_csv(\"heartreplace.csv\")\n",
    "\n",
    "# le = LabelEncoder()\n",
    "# data['Sex'] = le.fit_transform(data['Sex'])\n",
    "# data['ChestPainType'] = le.fit_transform(data['ChestPainType'])\n",
    "# data['RestingECG'] = le.fit_transform(data['RestingECG'])\n",
    "# data['ExerciseAngina'] = le.fit_transform(data['ExerciseAngina'])\n",
    "# data['ST_Slope'] = le.fit_transform(data['ST_Slope'])\n",
    "\n",
    "# ['Age', 'Sex','ChestPainType', 'RestingBP', 'Cholesterol', 'FastingBS','RestingECG', 'MaxHR','ExerciseAngina', 'Oldpeak','ST_Slope']\n",
    "X = data[['Age', 'Sex','ChestPainType', 'RestingBP', 'Cholesterol','FastingBS','RestingECG', 'MaxHR','ExerciseAngina', 'Oldpeak','ST_Slope']]\n",
    "y = data['HeartDisease']\n",
    "\n",
    "# Split dataset\n",
    "X_train, X_test, y_train, y_test = train_test_split(X, y, test_size=0.2, random_state=42)\n",
    "\n",
    "models = [\n",
    "    ('LR', LogisticRegression()),\n",
    "    ('SGD', SGDClassifier()),\n",
    "    ('DT', DecisionTreeClassifier()),\n",
    "    ('RF', RandomForestClassifier(n_estimators=200, max_depth=6, criterion='entropy')),\n",
    "    ('AB', AdaBoostClassifier(estimator=DecisionTreeClassifier(max_depth=3), n_estimators=200)),\n",
    "    ('NB', GaussianNB()),\n",
    "    ('SV', SVC()),\n",
    "    ('KNN', KNeighborsClassifier(n_neighbors=5)),\n",
    "    ('NW',MLPClassifier())\n",
    "]\n",
    "\n",
    "VOTE_model = VotingClassifier(estimators=models, voting='hard')\n",
    "VOTE_model.fit(X_train, y_train)\n",
    "\n",
    "# Predict & Evaluate\n",
    "from sklearn.metrics import accuracy_score\n",
    "y_pred = VOTE_model.predict(X_test)\n",
    "print(\"Accuracy:\", accuracy_score(y_test, y_pred))\n",
    "joblib.dump(VOTE_model, 'new_voting_classifier_model.pkl')"
   ]
  },
  {
   "cell_type": "code",
   "execution_count": 3,
   "metadata": {},
   "outputs": [
    {
     "name": "stdout",
     "output_type": "stream",
     "text": [
      "เป็นโรคหัวใจ\n"
     ]
    }
   ],
   "source": [
    "from sklearn.preprocessing import LabelEncoder\n",
    "import pandas as pd\n",
    "\n",
    "# โหลด LabelEncoder\n",
    "le_sex = LabelEncoder()\n",
    "le_chest_pain = LabelEncoder()\n",
    "le_resting_ecg = LabelEncoder()\n",
    "le_exercise_angina = LabelEncoder()\n",
    "le_st_slope = LabelEncoder()\n",
    "\n",
    "# ข้อมูลใหม่ที่คุณต้องการทำนาย\n",
    "new_data = {\n",
    "    'Age': [49],\n",
    "    'Sex': ['F'],\n",
    "    'ChestPainType': ['NAP'],\n",
    "    'RestingBP': [160],\n",
    "    'Cholesterol': [180],\n",
    "    'FastingBS': [0],\n",
    "    'RestingECG': ['Normal'],\n",
    "    'MaxHR': [156],\n",
    "    'ExerciseAngina': ['N'],\n",
    "    'Oldpeak': [1],\n",
    "    'ST_Slope': ['Flat']\n",
    "}\n",
    "\n",
    "# สร้าง DataFrame สำหรับข้อมูลใหม่\n",
    "new_data_df = pd.DataFrame(new_data)\n",
    "\n",
    "# แปลงข้อมูลที่เป็นตัวอักษรให้เป็นตัวเลข (Fit และ Transform สำหรับแต่ละคอลัมน์ที่เกี่ยวข้อง)\n",
    "new_data_df['Sex'] = le_sex.fit_transform(new_data_df['Sex'])\n",
    "new_data_df['ChestPainType'] = le_chest_pain.fit_transform(new_data_df['ChestPainType'])\n",
    "new_data_df['RestingECG'] = le_resting_ecg.fit_transform(new_data_df['RestingECG'])\n",
    "new_data_df['ExerciseAngina'] = le_exercise_angina.fit_transform(new_data_df['ExerciseAngina'])\n",
    "new_data_df['ST_Slope'] = le_st_slope.fit_transform(new_data_df['ST_Slope'])\n",
    "\n",
    "# ใช้ข้อมูลที่แปลงแล้วในการทำนาย\n",
    "new_data_transformed = new_data_df[['Age', 'Sex', 'ChestPainType', 'RestingBP', 'Cholesterol',\n",
    "                                     'FastingBS', 'RestingECG', 'MaxHR', 'ExerciseAngina',\n",
    "                                     'Oldpeak', 'ST_Slope']]\n",
    "\n",
    "# ทำนายผล\n",
    "predict_value = VOTE_model.predict(new_data_transformed)\n",
    "\n",
    "# แสดงผลลัพธ์\n",
    "if predict_value[0] == 1:\n",
    "    print(\"เป็นโรคหัวใจ\")\n",
    "else:\n",
    "    print(\"ไม่เป็นโรคหัวใจ\")"
   ]
  },
  {
   "cell_type": "code",
   "execution_count": null,
   "metadata": {},
   "outputs": [
    {
     "name": "stdout",
     "output_type": "stream",
     "text": [
      "Model accuracy: 0.89\n"
     ]
    },
    {
     "data": {
      "text/plain": [
       "['new_random_forest_model.pkl']"
      ]
     },
     "execution_count": 2,
     "metadata": {},
     "output_type": "execute_result"
    }
   ],
   "source": [
    "import pandas as pd\n",
    "from sklearn.preprocessing import LabelEncoder\n",
    "from sklearn.ensemble import RandomForestClassifier\n",
    "from sklearn.model_selection import train_test_split\n",
    "from sklearn.metrics import accuracy_score\n",
    "\n",
    "# โหลดข้อมูล\n",
    "data = pd.read_csv(\"heartreplace.csv\")\n",
    "\n",
    "X = data[['Age', 'Sex','ChestPainType', 'RestingBP', 'Cholesterol', 'FastingBS','RestingECG', 'MaxHR','ExerciseAngina', 'Oldpeak','ST_Slope']]\n",
    "y = data['HeartDisease']\n",
    "\n",
    "X_train, X_test, y_train, y_test = train_test_split(X, y, test_size=0.2, random_state=42)\n",
    "\n",
    "RF_model = RandomForestClassifier()\n",
    "RF_model.fit(X_train, y_train)\n",
    "\n",
    "y_pred = RF_model.predict(X_test)\n",
    "accuracy = accuracy_score(y_test, y_pred)\n",
    "print(f\"Model accuracy: {accuracy:.2f}\")\n",
    "joblib.dump(RF_model, 'new_random_forest_model.pkl')"
   ]
  }
 ],
 "metadata": {
  "kernelspec": {
   "display_name": "Python 3",
   "language": "python",
   "name": "python3"
  },
  "language_info": {
   "codemirror_mode": {
    "name": "ipython",
    "version": 3
   },
   "file_extension": ".py",
   "mimetype": "text/x-python",
   "name": "python",
   "nbconvert_exporter": "python",
   "pygments_lexer": "ipython3",
   "version": "3.11.9"
  }
 },
 "nbformat": 4,
 "nbformat_minor": 2
}
